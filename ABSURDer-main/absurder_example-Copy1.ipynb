{
 "cells": [
  {
   "cell_type": "markdown",
   "metadata": {},
   "source": [
    "# Example application of ABSURDer to T4L Data"
   ]
  },
  {
   "cell_type": "code",
   "execution_count": 4,
   "metadata": {},
   "outputs": [],
   "source": [
    "import ABSURDer as absurder\n",
    "import numpy as np"
   ]
  },
  {
   "cell_type": "markdown",
   "metadata": {},
   "source": [
    "## Introductory Example"
   ]
  },
  {
   "cell_type": "markdown",
   "metadata": {},
   "source": [
    "Print class docstrings to see what are the expected inputs."
   ]
  },
  {
   "cell_type": "code",
   "execution_count": 5,
   "metadata": {},
   "outputs": [
    {
     "name": "stdout",
     "output_type": "stream",
     "text": [
      "\n",
      "        Class constructor\n",
      "\n",
      "        Parameters\n",
      "        ----------\n",
      "        rex : str or numpy.ndarray\n",
      "            path to or numpy ndarray with dimensions nrates*nmethyls containing the experimental rates.\n",
      "        rmd : str or numpy.ndarray\n",
      "            path to or numpy ndarray with dimensions nrates*nmethyls*nblocks containing the simulated rates.\n",
      "        eex : str or numpy.ndarray\n",
      "            path to or numpy ndarray with dimensions nrates*nmethyls containing the experimental errors.\n",
      "            If empty, a toy model will be built from rex.\n",
      "            Default: ''.\n",
      "        out : str\n",
      "            path to a pickle file where to store results.\n",
      "            Default: 'results'.\n",
      "        thetas : numpy.array\n",
      "            array of fudge parameters to be used for reweighting.\n",
      "            Default: np.array([0,100,1000,10000]).\n",
      "        idx : list\n",
      "            list of methyls to exclude from the analysis.\n",
      "            Default: [].\n",
      "        methyl_list: str\n",
      "            path to the list of methyl group names. The ordering is expected to be the same as in the rate matrices.\n",
      "        \n"
     ]
    }
   ],
   "source": [
    "print( absurder.ABSURDer.__init__.__doc__ )"
   ]
  },
  {
   "cell_type": "markdown",
   "metadata": {},
   "source": [
    "Path to input data. Input datasets are expect to be provided either as a path or as a numpy array of the proper dimension. "
   ]
  },
  {
   "cell_type": "code",
   "execution_count": 6,
   "metadata": {},
   "outputs": [],
   "source": [
    "rex = f'data/same_ff/nmr.npy'\n",
    "rmd = f'data/same_ff/md.npy'"
   ]
  },
  {
   "cell_type": "markdown",
   "metadata": {},
   "source": [
    "In the case of the synthetic dataset generated from the same force field we build a toy model from the blocks in `rex`, so we don't need to provide any experimental errors. Those will be automatically computed by the class. In this way, we can construct the `AbsurdER` class with minimal inputs. Results will be stored in a file called `results.pkl`, and the range of fudge parameters used will be `theta=0,100,1000,10000`. "
   ]
  },
  {
   "cell_type": "code",
   "execution_count": 7,
   "metadata": {},
   "outputs": [
    {
     "name": "stdout",
     "output_type": "stream",
     "text": [
      "# No experimental errors provided: toy model built.\n",
      "\n",
      "# INFO ON THE DATASET\n",
      "# Number of methyls:  101\n",
      "# Number of rates:    3\n",
      "# Number of blocks:   1497\n",
      "# Overall chi square: 17.91\n"
     ]
    }
   ],
   "source": [
    "rw = absurder.ABSURDer( rex, rmd )"
   ]
  },
  {
   "cell_type": "markdown",
   "metadata": {},
   "source": [
    "The construction of the class shows us also some information of the dataset, i.e. the number of methyls, the number of rates, the number of blocks and the overall chi squared between the simulated and the experimental rates. Let's take a look at how experimental and simulated rates look with respect to each other. To do so we can use `plot_comparison`"
   ]
  },
  {
   "cell_type": "code",
   "execution_count": 8,
   "metadata": {},
   "outputs": [
    {
     "name": "stdout",
     "output_type": "stream",
     "text": [
      "\n",
      "        Plots the comparison between experimental and simulated data, adding also reweighted data when provided.\n",
      "\n",
      "        Parameters\n",
      "        ----------\n",
      "        r : int\n",
      "            rate index.\n",
      "        opt_theta : int\n",
      "            theta corresponding to the optimal set of weights. If not provided, no reweighted results will be shown.\n",
      "            Default: None.\n",
      "        rate_label : str\n",
      "            label to print on the y-axis. Is expected to be in a form similar to: r'(D$_y$)'. If not provided, a default label will be printed.\n",
      "            Default: None.\n",
      "        outfig : str\n",
      "            path to the figure to save. If not provided, the figure will be prompted on screen and not saved.\n",
      "            Default = None.\n",
      "        \n"
     ]
    }
   ],
   "source": [
    "print( absurder.ABSURDer.plot_comparison.__doc__ )"
   ]
  },
  {
   "cell_type": "code",
   "execution_count": 9,
   "metadata": {},
   "outputs": [
    {
     "data": {
      "image/png": "[encoded data removed]",
      "text/plain": [
       "<Figure size 504x468 with 1 Axes>"
      ]
     },
     "metadata": {
      "needs_background": "light"
     },
     "output_type": "display_data"
    }
   ],
   "source": [
    "rw.plot_comparison( 0 )"
   ]
  },
  {
   "cell_type": "markdown",
   "metadata": {},
   "source": [
    "We can now run the reweighting against rate 1 (`r=0`) using `reweight`."
   ]
  },
  {
   "cell_type": "code",
   "execution_count": 13,
   "metadata": {},
   "outputs": [
    {
     "name": "stdout",
     "output_type": "stream",
     "text": [
      "\n",
      "        Reweights the data with respect to a single rate r.\n",
      "        It saves the results in a .pkl file.\n",
      "\n",
      "        Parameters\n",
      "        ----------\n",
      "        r : int\n",
      "            rate index.\n",
      "        \n"
     ]
    }
   ],
   "source": [
    "print( absurder.ABSURDer.reweight.__doc__ )"
   ]
  },
  {
   "cell_type": "code",
   "execution_count": 14,
   "metadata": {
    "scrolled": true
   },
   "outputs": [
    {
     "name": "stdout",
     "output_type": "stream",
     "text": [
      "# THETA: 100           \n",
      "# Done! All minimizations terminated successfully\n",
      "# Saved results.pkl\n"
     ]
    }
   ],
   "source": [
    "rw.reweight( 0 )"
   ]
  },
  {
   "cell_type": "markdown",
   "metadata": {},
   "source": [
    "Let's take a look at the results of the reweighting. First, we plot the curve `phi_eff` vs `chi2` for each rate. "
   ]
  },
  {
   "cell_type": "code",
   "execution_count": 10,
   "metadata": {},
   "outputs": [
    {
     "name": "stdout",
     "output_type": "stream",
     "text": [
      "\n",
      "        Plots the phi_eff vs reduced chi squared curve for a provided rate.\n",
      "\n",
      "        Parameters\n",
      "        ----------\n",
      "        r : int\n",
      "            rate index.\n",
      "        outfig : str\n",
      "            path to the figure to save. If not provided, the figure will be prompted on screen and not saved.\n",
      "        \n"
     ]
    }
   ],
   "source": [
    "print( absurder.ABSURDer.plot_phix2r.__doc__ )"
   ]
  },
  {
   "cell_type": "code",
   "execution_count": 11,
   "metadata": {},
   "outputs": [
    {
     "data": {
      "image/png": "[encoded data removed]",
      "text/plain": [
       "<Figure size 360x216 with 1 Axes>"
      ]
     },
     "metadata": {
      "needs_background": "light"
     },
     "output_type": "display_data"
    },
    {
     "data": {
      "image/png": "[encoded data removed]",
      "text/plain": [
       "<Figure size 360x216 with 1 Axes>"
      ]
     },
     "metadata": {
      "needs_background": "light"
     },
     "output_type": "display_data"
    },
    {
     "data": {
      "image/png": "[encoded data removed]",
      "text/plain": [
       "<Figure size 360x216 with 1 Axes>"
      ]
     },
     "metadata": {
      "needs_background": "light"
     },
     "output_type": "display_data"
    }
   ],
   "source": [
    "for i in range(3):\n",
    "    rw.plot_phix2r( i )"
   ]
  },
  {
   "cell_type": "markdown",
   "metadata": {},
   "source": [
    "Let us also take a look at how the scatter plot has changed now that the rates have been reweighted. Here we arbitrarily select `theta=100` as an optimal value of the fudge parameter for our reweighting. "
   ]
  },
  {
   "cell_type": "code",
   "execution_count": 12,
   "metadata": {},
   "outputs": [
    {
     "data": {
      "image/png": "[encoded data removed]",
      "text/plain": [
       "<Figure size 504x468 with 1 Axes>"
      ]
     },
     "metadata": {
      "needs_background": "light"
     },
     "output_type": "display_data"
    }
   ],
   "source": [
    "opt_theta = 100\n",
    "rw.plot_comparison( 0, opt_theta )"
   ]
  },
  {
   "cell_type": "markdown",
   "metadata": {},
   "source": [
    "In the case where we want to simply analyze some results without running any reweighting, we can construct the class and then run the `load_results` function. "
   ]
  },
  {
   "cell_type": "code",
   "execution_count": 13,
   "metadata": {},
   "outputs": [],
   "source": [
    "rw.load_results('results.pkl')"
   ]
  },
  {
   "cell_type": "markdown",
   "metadata": {},
   "source": [
    "Alternatively to reweighting with respect to rate 1 we can also run the whole routine using `run`. In this case, the reweighting will be performed optimizing with respect to all rates separately and all rates simultaneously. "
   ]
  },
  {
   "cell_type": "code",
   "execution_count": 15,
   "metadata": {},
   "outputs": [
    {
     "name": "stdout",
     "output_type": "stream",
     "text": [
      "\n",
      "        Runs reweighting for all the available rates.\n",
      "        The name of the saved files will be the provided output name + '_R<num>'\n",
      "        In the case of all the rates, <num> = a.\n",
      "        \n"
     ]
    }
   ],
   "source": [
    "print( absurder.ABSURDer.run.__doc__ )"
   ]
  },
  {
   "cell_type": "code",
   "execution_count": 16,
   "metadata": {
    "scrolled": true
   },
   "outputs": [
    {
     "name": "stdout",
     "output_type": "stream",
     "text": [
      "# All rates\n",
      "# THETA: 100           \n",
      "# Done! All minimizations terminated successfully\n",
      "# Saved results_Ra.pkl\n",
      "\n",
      "# Rate 0\n",
      "# THETA: 100           \n",
      "# Done! All minimizations terminated successfully\n",
      "# Saved results_R1.pkl\n",
      "\n",
      "# Rate 1\n",
      "# THETA: 100           \n",
      "# Done! All minimizations terminated successfully\n",
      "# Saved results_R2.pkl\n",
      "\n",
      "# Rate 2\n",
      "# THETA: 100           \n",
      "# Done! All minimizations terminated successfully\n",
      "# Saved results_R3.pkl\n",
      "\n"
     ]
    }
   ],
   "source": [
    "rw.run()"
   ]
  },
  {
   "cell_type": "markdown",
   "metadata": {},
   "source": [
    "Other advanced options that might come in handy for data analysis are:"
   ]
  },
  {
   "cell_type": "code",
   "execution_count": 4,
   "metadata": {},
   "outputs": [
    {
     "name": "stdout",
     "output_type": "stream",
     "text": [
      "\n",
      "        Loads into the class the files needed to plot the spectral densities\n",
      "\n",
      "        Parameters\n",
      "        ----------\n",
      "        jex : str\n",
      "            path to the pickle with the experimental spectral density functions.\n",
      "        jws : int\n",
      "            path to the pickle with the values of J(0), J(w) and J(2w).\n",
      "        jmd : str\n",
      "            path to the pickle with the simulated spectral density functions.\n",
      "        \n"
     ]
    }
   ],
   "source": [
    "print( absurder.ABSURDer.load_specdens.__doc__ )"
   ]
  },
  {
   "cell_type": "code",
   "execution_count": 5,
   "metadata": {},
   "outputs": [
    {
     "name": "stdout",
     "output_type": "stream",
     "text": [
      "\n",
      "        Plots the spectral density corresponding to a specific methyl\n",
      "\n",
      "        Parameters\n",
      "        ----------\n",
      "        idx : int\n",
      "            methyl group index.\n",
      "        wd: float\n",
      "            Larmor frequency of 2H at the used magnetic field strength in MHz (Ex. 145.858415 for 2H at 950 MHz magnetic field strength)\n",
      "        opt_theta : int\n",
      "            theta corresponding to the optimal set of weights. If not provided, no reweighted results will be shown.\n",
      "            Default: None.\n",
      "        methyl_name: str\n",
      "            name of the methyl group, used as a figure title\n",
      "        rate_labels : list\n",
      "            list of labels to print on the x-axis. Is expected to be in a form similar to: [r'(D$_y$)]'. If not provided, a default label will be printed.\n",
      "            Default: [].\n",
      "        outfig : str\n",
      "            path to the figure to save. If not provided, the figure will be prompted on screen and not saved.\n",
      "            Default = None.\n",
      "        \n"
     ]
    }
   ],
   "source": [
    "print( absurder.ABSURDer.plot_specdens.__doc__ )"
   ]
  },
  {
   "cell_type": "code",
   "execution_count": 7,
   "metadata": {},
   "outputs": [
    {
     "name": "stdout",
     "output_type": "stream",
     "text": [
      "\n",
      "        Loads into the class the files needed to plot the rotamer distributions\n",
      "\n",
      "        Parameters\n",
      "        ----------\n",
      "        exrot : str\n",
      "            path to the pickle with the experimental rotamer distributions.\n",
      "        mdrot : int\n",
      "            path to the pickle with the simulated rotamer distributions.\n",
      "        ami : str\n",
      "            path to the pickle with the amino acid employed in the calculation of the different rotamers.\n",
      "        \n"
     ]
    }
   ],
   "source": [
    "print( absurder.ABSURDer.load_rotamers.__doc__ )"
   ]
  },
  {
   "cell_type": "code",
   "execution_count": 8,
   "metadata": {},
   "outputs": [
    {
     "name": "stdout",
     "output_type": "stream",
     "text": [
      "\n",
      "        Plots the rotamer distributions for a given methyl group.\n",
      "\n",
      "        Parameters\n",
      "        ----------\n",
      "        idx : str\n",
      "            residue name and number (ex. ILE9).\n",
      "        nblocks : int\n",
      "            number of blocks employed in the calculation.\n",
      "        block_size : int\n",
      "            size of blocks in ps.\n",
      "        ntrajs : int\n",
      "            number of trajectories used to compute the rotamers.\n",
      "        opt_theta : int\n",
      "            theta corresponding to the optimal set of weights. If not provided, no reweighted results will be shown.\n",
      "            Default: None.\n",
      "        outfig : str\n",
      "            path to the figure to save. If not provided, the figure will be prompted on screen and not saved.\n",
      "            Default = None.\n",
      "        \n"
     ]
    }
   ],
   "source": [
    "print( absurder.ABSURDer.plot_rotamer_distributions.__doc__ )"
   ]
  },
  {
   "cell_type": "code",
   "execution_count": 14,
   "metadata": {},
   "outputs": [
    {
     "name": "stdout",
     "output_type": "stream",
     "text": [
      "\n",
      "        Plots the chi1-chi2 rotamer distribution for a given methyl group.\n",
      "\n",
      "        Parameters\n",
      "        ----------\n",
      "        idx : str\n",
      "            residue name and number (ex. ILE9).\n",
      "        nblocks: int\n",
      "            number of blocks employed in the calculation.\n",
      "        block_size : int\n",
      "            size of blocks in ps.\n",
      "        opt_theta : int\n",
      "            theta corresponding to the optimal set of weights. If not provided, no reweighted results will be shown.\n",
      "        outfig : str\n",
      "            path to the figure to save. If not provided, the figure will be prompted on screen and not saved.\n",
      "            Default = None.\n",
      "        \n"
     ]
    }
   ],
   "source": [
    "print( absurder.ABSURDer.plot_2d_rotamers.__doc__ )"
   ]
  },
  {
   "cell_type": "code",
   "execution_count": 3,
   "metadata": {},
   "outputs": [
    {
     "name": "stdout",
     "output_type": "stream",
     "text": [
      "\n",
      "        Plots the rate distributions over the blocks for a given methyl group.\n",
      "\n",
      "        Parameters\n",
      "        ----------\n",
      "        idx : int\n",
      "            methyl group index.\n",
      "        opt_theta : int\n",
      "            theta corresponding to the optimal set of weights. If not provided, no reweighted results will be shown.\n",
      "            Default: None.\n",
      "        methyl_name: str\n",
      "            name of the methyl group, used as a figure title\n",
      "        rate_labels : list\n",
      "            list of labels to print on the x-axis. Is expected to be in a form similar to: [r'(D$_y$)]'. If not provided, a default label will be printed.\n",
      "            Default: [].\n",
      "        outfig : str\n",
      "            path to the figure to save. If not provided, the figure will be prompted on screen and not saved.\n",
      "            Default = None.\n",
      "        \n"
     ]
    }
   ],
   "source": [
    "print( absurder.ABSURDer.plot_rate_distributions.__doc__ )"
   ]
  },
  {
   "cell_type": "markdown",
   "metadata": {},
   "source": [
    "Examples of use of advanced functions can be found at: `...`"
   ]
  },
  {
   "cell_type": "code",
   "execution_count": null,
   "metadata": {},
   "outputs": [],
   "source": []
  }
 ],
 "metadata": {
  "kernelspec": {
   "display_name": "Python 3",
   "language": "python",
   "name": "python3"
  },
  "language_info": {
   "codemirror_mode": {
    "name": "ipython",
    "version": 3
   },
   "file_extension": ".py",
   "mimetype": "text/x-python",
   "name": "python",
   "nbconvert_exporter": "python",
   "pygments_lexer": "ipython3",
   "version": "3.8.8"
  },
  "toc": {
   "base_numbering": 1,
   "nav_menu": {},
   "number_sections": true,
   "sideBar": true,
   "skip_h1_title": false,
   "title_cell": "Table of Contents",
   "title_sidebar": "Contents",
   "toc_cell": false,
   "toc_position": {
    "height": "calc(100% - 180px)",
    "left": "10px",
    "top": "150px",
    "width": "307.2px"
   },
   "toc_section_display": true,
   "toc_window_display": true
  }
 },
 "nbformat": 4,
 "nbformat_minor": 4
}
