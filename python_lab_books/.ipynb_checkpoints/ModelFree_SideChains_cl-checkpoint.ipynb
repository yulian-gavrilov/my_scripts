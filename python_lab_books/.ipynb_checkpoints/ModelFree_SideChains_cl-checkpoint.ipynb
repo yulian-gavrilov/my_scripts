{
 "cells": [
  {
   "cell_type": "code",
   "execution_count": 16,
   "id": "481943f5-ca1e-4d10-9584-49bc3cbc0240",
   "metadata": {},
   "outputs": [],
   "source": [
    "import numpy as np\n",
    "import pandas as pd\n",
    "from numpy import pi, r_\n",
    "import matplotlib.pyplot as plt\n",
    "import matplotlib.ticker as mtick\n",
    "from matplotlib import rc\n",
    "from scipy import optimize\n",
    "from scipy.optimize import minimize\n",
    "import re\n",
    "import sys\n",
    "import subprocess\n",
    "import math"
   ]
  },
  {
   "cell_type": "code",
   "execution_count": 17,
   "id": "0c06d3e9-b340-463f-8f0a-f5492fa86289",
   "metadata": {},
   "outputs": [],
   "source": [
    "font = {'size': 16}\n",
    "rc('font', **font)\n",
    "\n",
    "plt.rcParams['pdf.fonttype'] = 42\n",
    "plt.rcParams['ps.fonttype'] = 42\n",
    "plt.rcParams[\"lines.linewidth\"]=2\n",
    "\n",
    "plotting=True # plots should be created ?\n",
    "subplots=True\n",
    "pico=1.*10**(-12) # picoseconds"
   ]
  },
  {
   "cell_type": "code",
   "execution_count": 18,
   "id": "5992e7c7-9471-4599-b6d4-4a40cefab028",
   "metadata": {},
   "outputs": [],
   "source": [
    "# file with QUADRIC analysis of the protein backbone in order to define\n",
    "# global tumbling (general or specific for each methyl) has to be done before running this script\n",
    "\n",
    "inputpath = \".\"\n",
    "variant='CI2_WT' \n",
    "tumbling = \"iso\" # iso/ani\n",
    "\n",
    "outputpath = inputpath+\"/\"+variant+\"/\"+tumbling\n",
    "\n",
    "## Creat output folder\n",
    "COMMAND = f\"mkdir -p {variant}/{tumbling}\"\n",
    "subprocess.call(COMMAND, shell=True)\n",
    "\n",
    "# Read in input files\n",
    "tumbling_file=inputpath+\"/analysis_\"+tumbling+\"_\"+variant\n",
    "inputfile_times=inputpath+\"/\"+variant+\"_sch_times.csv\"\n",
    "relax_times_exp = pd.read_csv(inputfile_times, sep=\",\", index_col=[0])\n",
    "\n",
    "\n",
    "methID_dict = {\"Ala\":\"ALA\", \"Ile\":\"ILE\", \"Leu\":\"LEU\", \"Met\":\"MET\", \"Thr\":\"THR\", \"Val\":\"VAL\",\n",
    "               \"Cb\":\"-CB\", \"Hb\":\"HB\", \"Cg1\":\"-CG1\",\"Cg2\":\"-CG2\", \"Hg1\":\"HG1\",\"Hg2\":\"HG2\",\"Cd1\":\"-CD1\", \"Hd1\":\"HD1\",\n",
    "               \"Cd2\":\"-CD2\", \"Hd2\":\"HD2\", \"Ce\":\"-CE\", \"He\":\"HE\"}\n",
    "\n"
   ]
  },
  {
   "cell_type": "code",
   "execution_count": 86,
   "id": "c9f1f14b-0a90-448a-b963-158fdb04e360",
   "metadata": {},
   "outputs": [],
   "source": [
    "nfields=2 # 600, 750 MHz\n",
    "nrates=4 # R1, R2, R3, R4\n",
    "nmodels=2 # LS2, LS3\n",
    "njws=3 # Jomega0, Jomega_D, Jomega_2D \n",
    "\n",
    "# Larmor frquency of deuterium\n",
    "omega_D_field1=2.*pi*92.1298227037992*1000000 # Hr @600 MHz\n",
    "omega_D_field2=2.*pi*115.138869111022*1000000 # Hz @750 MHz\n",
    "# frequencies of spectral density used for the fit / usually frequencies measured in NMR\n",
    "\n",
    "# create array with five frequences  \n",
    "measuredfreq_field1=np.array([i*omega_D_field1 for i in [0,1,2]])\n",
    "measuredfreq_field2=np.array([i*omega_D_field2 for i in [0,1,2]])\n",
    "\n",
    "measuredfreq = np.array([measuredfreq_field1[0], measuredfreq_field2[0],measuredfreq_field1[1], measuredfreq_field2[1],\n",
    "               measuredfreq_field1[2], measuredfreq_field2[2]])\n",
    "\n",
    "frequency = np.linspace(0, 2*10**9, 100)\n"
   ]
  },
  {
   "cell_type": "code",
   "execution_count": 93,
   "id": "8e6b8048-3208-41b0-8982-db4c60cfedaf",
   "metadata": {},
   "outputs": [],
   "source": [
    "class methyl_MF:\n",
    "    \n",
    "        pre=2*np.pi*167000 # prefactor based on physical constants\n",
    "        A = 3./16.*pre**2 # prefactor A\n",
    "        B = 1./32.*pre**2 # prefactor B\n",
    "    \n",
    "    \n",
    "        def __init__(self,methyl_numb=0,rates=[],rates_err=[]):\n",
    "            \n",
    "            self.methyl_numb = methyl_numb\n",
    "            self.rates = []\n",
    "            self.rares_err = []\n",
    "        \n",
    "        def get_rates (self,methyl_numb,relax_times_exp):\n",
    "    \n",
    "            times=relax_times_exp.iloc[methyl_numb][::2].values # in ms\n",
    "            self.rates = 1/(times*0.001) \n",
    "            \n",
    "            return self.rates\n",
    "            \n",
    "        def get_rates_err (self,methyl_numb,relax_times_exp):\n",
    "    \n",
    "            errors = relax_times_exp.iloc[methyl_numb][1::2].values # in ms\n",
    "            self.rares_err = np.divide(errors/0.001, times**2) \n",
    "            \n",
    "            return self.rares_err\n",
    "        \n",
    "        def get_rates_and_err (self,methyl_numb,relax_times_exp):\n",
    "    \n",
    "            times=relax_times_exp.iloc[methyl_numb][::2].values # in ms\n",
    "            errors = relax_times_exp.iloc[methyl_numb][1::2].values # in ms\n",
    "            self.rates = 1/(times*0.001) \n",
    "            self.rares_err = np.divide(errors/0.001, times**2) \n",
    "            \n",
    "            return self.rates, self.rares_err\n",
    "\n",
    "        \n",
    "        # methods to calculate spectral density points from methyl relaxation rates\n",
    "\n",
    "        def J_omega_D(self,R1,R2,R3):\n",
    "            return R3/(3*methyl_MF.A) - R1*0 - R2*0\n",
    "        \n",
    "        def J_2omega_D(self,R1,R2,R3):\n",
    "            return (R1/methyl_MF.A - R3/(3*methyl_MF.A))/4 - R2*0\n",
    "        def J_2omega_D_b(self,R2,R3,R4):\n",
    "            return (R4/methyl_MF.A - R3/(3*methyl_MF.A))/2 - R2*0  \n",
    "        \n",
    "        def J_0(self,R1,R2,R3):\n",
    "            return ( R2/methyl_MF.B - 5*R3/methyl_MF.A - 1.5*R1/methyl_MF.A + 0.5*R3/methyl_MF.A ) /9\n",
    "        def J_0_b(self,R2,R3,R4):\n",
    "            return ( R2/methyl_MF.B - 5*R3/methyl_MF.A - 3*R4/methyl_MF.A + R3/methyl_MF.A ) /9\n",
    "        \n",
    "        \n",
    "        # methods to calculate methyl relaxation rates from spectral density points\n",
    "        def R1(self,x,y,z):\n",
    "            return 3./16.*methyl_MF.pre**2*(0*x+ 1*y+4*z)\n",
    "        def R2(self,x,y,z):\n",
    "            return 1./32.*methyl_MF.pre**2*(9*x+15*y+6*z)\n",
    "        def R3(self,x,y,z):                            \n",
    "            return 3./16.*methyl_MF.pre**2*(0*x+ 3*y+0*z)\n",
    "        def R4(self,x,y,z):\n",
    "            return 3./16.*methyl_MF.pre**2*(0*x+ 1*y+2*z)\n",
    "        "
   ]
  },
  {
   "cell_type": "code",
   "execution_count": 94,
   "id": "4c0a4165-3ca1-493e-87d9-9b6775448d02",
   "metadata": {},
   "outputs": [],
   "source": [
    "m = methyl_MF()"
   ]
  },
  {
   "cell_type": "code",
   "execution_count": 95,
   "id": "a0b40452-ece4-48a7-ae74-82c12f4f31f7",
   "metadata": {},
   "outputs": [],
   "source": [
    "rates = m.get_rates(0,relax_times_exp)"
   ]
  },
  {
   "cell_type": "code",
   "execution_count": 96,
   "id": "05886932-470b-427f-921b-7280f163298a",
   "metadata": {},
   "outputs": [
    {
     "data": {
      "text/plain": [
       "array([27.07925339, 74.43677415, 24.18129978, 19.14059494, 24.291437  ,\n",
       "       74.65951528, 20.26205319, 15.30364498])"
      ]
     },
     "execution_count": 96,
     "metadata": {},
     "output_type": "execute_result"
    }
   ],
   "source": [
    "rates"
   ]
  },
  {
   "cell_type": "code",
   "execution_count": 97,
   "id": "429ce123-c8ab-47ae-91ee-367f69ca13f2",
   "metadata": {},
   "outputs": [
    {
     "data": {
      "text/plain": [
       "206440047856.4858"
      ]
     },
     "execution_count": 97,
     "metadata": {},
     "output_type": "execute_result"
    }
   ],
   "source": [
    "m.A"
   ]
  },
  {
   "cell_type": "code",
   "execution_count": 98,
   "id": "adbe145a-b2b6-442b-8275-2519bb6d3a76",
   "metadata": {},
   "outputs": [],
   "source": [
    "#Jzero_field1=J_0(Rates[0],Rates[1],Rates[2]) \n",
    "#Jzero_field2=J_0(Rates[4],Rates[5],Rates[6]) # J_0(R1,R2,R3)\n",
    "\n",
    "Jzero_field1 = m.J_0(rates[0],rates[1],rates[2])\n",
    "Jw_D_field1=m.J_omega_D(rates[0],rates[1],rates[2])\n",
    "J2w_D_field1=m.J_2omega_D(rates[0],rates[1],rates[2])"
   ]
  },
  {
   "cell_type": "code",
   "execution_count": 99,
   "id": "b3e07663-fc98-40a0-83dc-39059287da9d",
   "metadata": {},
   "outputs": [
    {
     "name": "stdout",
     "output_type": "stream",
     "text": [
      "1.5995276911477115e-10 3.9044910826487544e-11 2.3031892709764054e-11\n"
     ]
    }
   ],
   "source": [
    "print (Jzero_field1,Jw_D_field1,J2w_D_field1)"
   ]
  },
  {
   "cell_type": "code",
   "execution_count": 100,
   "id": "cb5ffbcb-be50-47ce-b599-e692dfbddea0",
   "metadata": {},
   "outputs": [],
   "source": [
    "rate1_field1=m.R1(Jzero_field1,Jw_D_field1,J2w_D_field1)"
   ]
  },
  {
   "cell_type": "code",
   "execution_count": 101,
   "id": "d1dcf862-2898-4f1b-844e-662de4502cac",
   "metadata": {},
   "outputs": [
    {
     "data": {
      "text/plain": [
       "27.079253392488862"
      ]
     },
     "execution_count": 101,
     "metadata": {},
     "output_type": "execute_result"
    }
   ],
   "source": [
    "rate1_field1"
   ]
  },
  {
   "cell_type": "code",
   "execution_count": null,
   "id": "d0c240c2-3d8f-42b0-bef0-b252c136794c",
   "metadata": {},
   "outputs": [],
   "source": []
  }
 ],
 "metadata": {
  "kernelspec": {
   "display_name": "Python 3",
   "language": "python",
   "name": "python3"
  },
  "language_info": {
   "codemirror_mode": {
    "name": "ipython",
    "version": 3
   },
   "file_extension": ".py",
   "mimetype": "text/x-python",
   "name": "python",
   "nbconvert_exporter": "python",
   "pygments_lexer": "ipython3",
   "version": "3.8.8"
  }
 },
 "nbformat": 4,
 "nbformat_minor": 5
}
